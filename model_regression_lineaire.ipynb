{
 "cells": [
  {
   "cell_type": "code",
   "execution_count": 37,
   "id": "04ba6227",
   "metadata": {},
   "outputs": [],
   "source": [
    "import numpy as np\n",
    "import pandas as pd  \n",
    "import seaborn as sns\n",
    "import matplotlib.pyplot as plt\n",
    "%matplotlib inline\n",
    "import warnings\n",
    "warnings.filterwarnings('ignore')\n",
    "from sklearn.preprocessing import StandardScaler\n",
    "from sklearn.model_selection import train_test_split \n",
    "from sklearn.linear_model import LinearRegression\n",
    "from sklearn.model_selection import train_test_split\n",
    "from sklearn.preprocessing import OrdinalEncoder, OneHotEncoder\n",
    "import pickle"
   ]
  },
  {
   "cell_type": "code",
   "execution_count": 2,
   "id": "30cd8af8",
   "metadata": {},
   "outputs": [],
   "source": [
    "df = pd.read_csv('c:\\\\Users\\\\Abize\\\\OneDrive\\\\Bureau\\\\Etienne_diane_phileas\\\\APICars\\\\data\\\\RAW\\\\cars.csv', index_col=\"car_ID\")\n",
    "df_copy = df.copy()"
   ]
  },
  {
   "cell_type": "code",
   "execution_count": 24,
   "id": "3db9f3b5",
   "metadata": {},
   "outputs": [],
   "source": [
    "X = df[['curbweight']]\n",
    "y = df[['price']]"
   ]
  },
  {
   "cell_type": "code",
   "execution_count": 26,
   "id": "af8942be",
   "metadata": {},
   "outputs": [],
   "source": [
    "sns.set(rc = {'figure.figsize': (10, 5)})"
   ]
  },
  {
   "cell_type": "code",
   "execution_count": 27,
   "id": "336e39ba",
   "metadata": {},
   "outputs": [
    {
     "name": "stdout",
     "output_type": "stream",
     "text": [
      "Score de la regression simple R^2 0.6977342414446954\n"
     ]
    },
    {
     "data": {
      "image/png": "[encoded data removed]",
      "text/plain": [
       "<Figure size 720x360 with 1 Axes>"
      ]
     },
     "metadata": {},
     "output_type": "display_data"
    }
   ],
   "source": [
    "# Regression simple\n",
    "model_lineaire = LinearRegression().fit(X, y);\n",
    "y_pred = model_lineaire.predict(X);\n",
    "print(\"Score de la regression simple R^2\", model_lineaire.score(X, y))\n",
    "plt.scatter(X, y);\n",
    "plt.plot(X, y_pred, c='r', lw=3);\n",
    "plt.title(\"Regression Simple\");"
   ]
  },
  {
   "cell_type": "code",
   "execution_count": 45,
   "id": "18eccd2f",
   "metadata": {},
   "outputs": [
    {
     "name": "stdout",
     "output_type": "stream",
     "text": [
      "(205, 2)\n",
      "*******************\n",
      "(143, 2)\n",
      "(62, 2)\n",
      "*******************\n",
      "(143, 1)\n",
      "(62, 1)\n"
     ]
    }
   ],
   "source": [
    "# Regression multiple avec une division \"cross validation simple\"\n",
    "X = df[['curbweight','enginesize']]\n",
    "y = df[['price']]\n",
    "\n",
    "model = LinearRegression()\n",
    "X_train, X_test, y_train, y_test = train_test_split(X,y, test_size = 0.3, random_state = 3)\n",
    "entrainement = model.fit(X_train, y_train)\n",
    "score_entrainement = model.score(X_train, y_train)\n",
    "y_pred = model.predict(X_test)\n",
    "print(X.shape)\n",
    "print(\"*******************\")\n",
    "#70% des donnees\n",
    "print(X_train.shape) \n",
    "#30% des donnees\n",
    "print(X_test.shape)  \n",
    "print(\"*******************\")\n",
    "print(y_train.shape)\n",
    "print(y_test.shape)\n"
   ]
  },
  {
   "cell_type": "code",
   "execution_count": 22,
   "id": "0ae82df5",
   "metadata": {},
   "outputs": [
    {
     "name": "stdout",
     "output_type": "stream",
     "text": [
      "train score: 0.7546763537732167\n",
      "******************************\n",
      "Valeur predict : [[ 9732.9922308 ]\n",
      " [ 9532.43715385]\n",
      " [ 5963.09232889]\n",
      " [ 8466.40407178]\n",
      " [ 7704.29477937]\n",
      " [25339.95559517]\n",
      " [11608.69540246]\n",
      " [ 7860.21661349]\n",
      " [ 6279.52367252]\n",
      " [31305.91124715]\n",
      " [ 6318.17091073]\n",
      " [ 9773.83513478]\n",
      " [ 6279.52367252]\n",
      " [22988.23980282]\n",
      " [35629.24914208]\n",
      " [ 9938.00408723]\n",
      " [ 7646.35664603]\n",
      " [10008.58067045]\n",
      " [ 7909.30663581]\n",
      " [ 9127.60210905]\n",
      " [20765.70516766]\n",
      " [21936.43984372]\n",
      " [ 6371.65226458]\n",
      " [10102.90492828]\n",
      " [11871.64539224]\n",
      " [14707.62092362]\n",
      " [19880.93626741]\n",
      " [13068.25796072]\n",
      " [18343.34734414]\n",
      " [22092.42712579]\n",
      " [ 6002.47145569]\n",
      " [15591.72338324]\n",
      " [17091.59330076]\n",
      " [40869.48162614]\n",
      " [ 7360.92641495]\n",
      " [ 8328.97579625]\n",
      " [10378.49336793]\n",
      " [31060.78837532]\n",
      " [15502.58779349]\n",
      " [13932.27218867]\n",
      " [ 8136.60238968]\n",
      " [13414.42298359]\n",
      " [13187.12722971]\n",
      " [10792.97386029]\n",
      " [ 7829.08460503]\n",
      " [ 9946.18575762]\n",
      " [26042.92476889]\n",
      " [12049.91657175]\n",
      " [12968.74503481]\n",
      " [ 8587.46900654]\n",
      " [10859.82555261]\n",
      " [ 7855.82528196]\n",
      " [ 6671.05382681]\n",
      " [ 5761.07347476]\n",
      " [22288.52542325]\n",
      " [13133.64587586]\n",
      " [18326.91855541]\n",
      " [12196.99029484]\n",
      " [11262.5303796 ]\n",
      " [27268.53912802]\n",
      " [ 5288.65484906]\n",
      " [24203.4768258 ]]\n",
      "******************************\n",
      "Juste voir\n",
      "test score: 0.8675581680379639\n",
      "******************************\n",
      "Valeur de depart :           price\n",
      "car_ID         \n",
      "190     11595.0\n",
      "184      7975.0\n",
      "119      5572.0\n",
      "166      9298.0\n",
      "161      7738.0\n",
      "...         ...\n",
      "178     11248.0\n",
      "101      9549.0\n",
      "18      36880.0\n",
      "31       6479.0\n",
      "68      25552.0\n",
      "\n",
      "[62 rows x 1 columns]\n"
     ]
    }
   ],
   "source": [
    "print('train score:', score_entrainement)\n",
    "print(\"******************************\")\n",
    "print(\"Valeur predict :\" , y_pred)\n",
    "print(\"******************************\")\n",
    "\n",
    "print(\"Juste voir\")\n",
    "test_entrainement = model.fit(X_test, y_test) \n",
    "score_test = model.score(X_test, y_test)\n",
    "print('test score:', score_test)\n",
    "print(\"******************************\")\n",
    "print(\"Valeur de depart :\", y_test)"
   ]
  },
  {
   "cell_type": "code",
   "execution_count": 51,
   "id": "ccc7aa23",
   "metadata": {},
   "outputs": [
    {
     "name": "stdout",
     "output_type": "stream",
     "text": [
      "Score de la regression simple R^2 : 0.7945836303808418\n"
     ]
    }
   ],
   "source": [
    "# Regression avec 2 variables\n",
    "model_multiple = LinearRegression().fit(X, y);\n",
    "y_pred = model_multiple.predict(X);\n",
    "print(\"Score de la regression simple R^2 :\",model_multiple.score(X, y))"
   ]
  },
  {
   "cell_type": "code",
   "execution_count": 48,
   "id": "0ad21e06",
   "metadata": {},
   "outputs": [
    {
     "data": {
      "text/plain": [
       "0.8599569644323289"
      ]
     },
     "execution_count": 48,
     "metadata": {},
     "output_type": "execute_result"
    }
   ],
   "source": [
    "X = df[['curbweight','enginesize']]\n",
    "y = df[['price']]\n",
    "\n",
    "ss = StandardScaler()\n",
    "#Les deux variables Possedes la MEME echelle\n",
    "X_ss = ss.fit_transform(df[['enginesize', 'curbweight']])\n",
    "\n",
    "# Mettre à la meme echelle X_train\n",
    "X_train_ss = ss.fit_transform(X_train)\n",
    "X_test_ss = ss.transform(X_test)\n",
    "\n",
    "# Mettre à la meme echelle y_train\n",
    "y_train_ss = ss.fit_transform(y_train)\n",
    "y_test_ss = ss.transform(y_test)\n",
    "\n",
    "model_multiple.fit(X_train_ss, y_train) \n",
    "y_pred = model_multiple.predict(X_test_ss);\n",
    "model_multiple.score(X_test_ss, y_test)\n"
   ]
  },
  {
   "cell_type": "code",
   "execution_count": null,
   "id": "08b87d18",
   "metadata": {},
   "outputs": [],
   "source": [
    "# Enregistrement du model\n",
    "file = 'LinearRegressionMultiple.sav'\n",
    "pickle.dump(model_multiple, open(file, 'wb'))"
   ]
  }
 ],
 "metadata": {
  "interpreter": {
   "hash": "0c31fafe0dad07127352192b1aafdf81690dcf48418661749b4dbb6f41fccad3"
  },
  "kernelspec": {
   "display_name": "Python 3",
   "language": "python",
   "name": "python3"
  },
  "language_info": {
   "codemirror_mode": {
    "name": "ipython",
    "version": 3
   },
   "file_extension": ".py",
   "mimetype": "text/x-python",
   "name": "python",
   "nbconvert_exporter": "python",
   "pygments_lexer": "ipython3",
   "version": "3.8.8"
  }
 },
 "nbformat": 4,
 "nbformat_minor": 5
}
